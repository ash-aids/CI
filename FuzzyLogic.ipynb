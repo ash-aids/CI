{
 "cells": [
  {
   "cell_type": "code",
   "execution_count": 12,
   "metadata": {},
   "outputs": [
    {
     "name": "stdout",
     "output_type": "stream",
     "text": [
      "Fuzzy Set A is:  {'a': 0.2, 'b': 0.7, 'c': 0.6, 'd': 0.6}\n",
      "Fuzzy Set B is:  {'a': 0.4, 'b': 0.3, 'c': 0.8, 'd': 0.6}\n",
      "Union of A and B is:  {'a': 0.4, 'b': 0.7, 'c': 0.8, 'd': 0.6}\n"
     ]
    }
   ],
   "source": [
    "A = dict()\n",
    "B = dict()\n",
    "A_union_B = dict()\n",
    "\n",
    "A = {'a': 0.2, 'b': 0.7, 'c': 0.6, 'd': 0.6}\n",
    "B = {'a': 0.4, 'b': 0.3, 'c': 0.8, 'd': 0.6}\n",
    "\n",
    "print(\"Fuzzy Set A is: \", A)\n",
    "print(\"Fuzzy Set B is: \", B)\n",
    "\n",
    "for A_key,B_key in zip(A,B):\n",
    "    A_value = A[A_key]\n",
    "    B_value = B[B_key]\n",
    "\n",
    "    A_union_B[A_key] = max(A_value, B_value)\n",
    "\n",
    "print(\"Union of A and B is: \", A_union_B)\n"
   ]
  },
  {
   "cell_type": "code",
   "execution_count": 13,
   "metadata": {},
   "outputs": [
    {
     "name": "stdout",
     "output_type": "stream",
     "text": [
      "Fuzzy Set A is:  {'a': 0.2, 'b': 0.7, 'c': 0.6, 'd': 0.6}\n",
      "Fuzzy Set B is:  {'a': 0.4, 'b': 0.3, 'c': 0.8, 'd': 0.6}\n",
      "Intersect of A and B is:  {'a': 0.2, 'b': 0.3, 'c': 0.6, 'd': 0.6}\n"
     ]
    }
   ],
   "source": [
    "A = dict()\n",
    "B = dict()\n",
    "A_intersect_B = dict()\n",
    "\n",
    "A = {'a': 0.2, 'b': 0.7, 'c': 0.6, 'd': 0.6}\n",
    "B = {'a': 0.4, 'b': 0.3, 'c': 0.8, 'd': 0.6}\n",
    "\n",
    "print(\"Fuzzy Set A is: \", A)\n",
    "print(\"Fuzzy Set B is: \", B)\n",
    "\n",
    "for A_key,B_key in zip(A,B):\n",
    "    A_value = A[A_key]\n",
    "    B_value = B[B_key]\n",
    "\n",
    "    A_intersect_B[A_key] = min(A_value, B_value)\n",
    "\n",
    "print(\"Intersect of A and B is: \", A_intersect_B)\n"
   ]
  },
  {
   "cell_type": "code",
   "execution_count": 17,
   "metadata": {},
   "outputs": [
    {
     "name": "stdout",
     "output_type": "stream",
     "text": [
      "Fuzzy Set A is:  {'a': 0.2, 'b': 0.7, 'c': 0.6, 'd': 0.6}\n",
      "Complement of A is:  {'a': 0.8, 'b': 0.30000000000000004, 'c': 0.4, 'd': 0.4}\n"
     ]
    }
   ],
   "source": [
    "A = dict()\n",
    "B = dict()\n",
    "A_complement = dict()\n",
    "\n",
    "A = {'a': 0.2, 'b': 0.7, 'c': 0.6, 'd': 0.6}\n",
    "\n",
    "print(\"Fuzzy Set A is: \", A)\n",
    "\n",
    "for A_key in A:\n",
    "    A_value = A[A_key]\n",
    "\n",
    "    A_complement[A_key] = 1 - A_value\n",
    "\n",
    "print(\"Complement of A is: \", A_complement)\n"
   ]
  },
  {
   "cell_type": "code",
   "execution_count": 4,
   "metadata": {},
   "outputs": [
    {
     "name": "stdout",
     "output_type": "stream",
     "text": [
      "Fuzzy Set A is:  {'a': 0.2, 'b': 0.3, 'c': 0.6, 'd': 0.6}\n",
      "Fuzzy Set B is:  {'a': 0.9, 'b': 0.9, 'c': 0.8, 'd': 0.6}\n",
      "Difference of A and B is:  {'a': 0.09999999999999998, 'b': 0.09999999999999998, 'c': 0.19999999999999996, 'd': 0.4}\n"
     ]
    }
   ],
   "source": [
    "A = dict()\n",
    "B = dict()\n",
    "A_difference_B = dict()\n",
    "\n",
    "A = {'a': 0.2, 'b': 0.3, 'c': 0.6, 'd': 0.6}\n",
    "B = {'a': 0.9, 'b': 0.9, 'c': 0.8, 'd': 0.6}\n",
    "\n",
    "print(\"Fuzzy Set A is: \", A)\n",
    "print(\"Fuzzy Set B is: \", B)\n",
    "\n",
    "for A_key,B_key in zip(A,B):\n",
    "    A_value = A[A_key]\n",
    "    B_value = B[B_key]\n",
    "    #B_value = 1 - B_value\n",
    "\n",
    "    A_difference_B[A_key] = min(A_value,(1-B_value))\n",
    "\n",
    "print(\"Difference of A and B is: \", A_difference_B)\n"
   ]
  },
  {
   "cell_type": "code",
   "execution_count": 6,
   "metadata": {},
   "outputs": [
    {
     "name": "stdout",
     "output_type": "stream",
     "text": [
      "Cartesian Product of A and B is:  {('a', 'c'): 0.2, ('a', 'd'): 0.2, ('b', 'c'): 0.3, ('b', 'd'): 0.3}\n"
     ]
    }
   ],
   "source": [
    "A = dict()\n",
    "B = dict()\n",
    "A_cartesian_B = dict()\n",
    "\n",
    "A = {'a': 0.2, 'b': 0.3}\n",
    "B = {'c': 0.8, 'd': 0.6}\n",
    "\n",
    "for A_key in A:\n",
    "    A_value = A[A_key]\n",
    "    for B_key in B:\n",
    "        B_value = B[B_key]\n",
    "        A_cartesian_B[(A_key,B_key)] = min(A_value,B_value)\n",
    "\n",
    "print(\"Cartesian Product of A and B is: \", A_cartesian_B)"
   ]
  },
  {
   "cell_type": "code",
   "execution_count": 8,
   "metadata": {},
   "outputs": [
    {
     "name": "stdout",
     "output_type": "stream",
     "text": [
      "\n",
      "Max-Min Composition (R ∘ S): {('x1', 'z1'): 0.7}\n"
     ]
    }
   ],
   "source": [
    "def max_min_composition(R, S):\n",
    "    result = {}\n",
    "    for (x, y1) in R:\n",
    "        for (y2, z) in S:\n",
    "            if y1 == y2:\n",
    "                key = (x, z)\n",
    "                value = min(R[(x, y1)], S[(y2, z)])\n",
    "                if key in result:\n",
    "                    result[key] = max(result[key], value)\n",
    "                else:\n",
    "                    result[key] = value\n",
    "    return result\n",
    "\n",
    "#Fuzzy relations\n",
    "R = {('x1', 'y1'): 0.3, ('x1', 'y2'): 0.7}\n",
    "S = {('y1', 'z1'): 0.5, ('y2', 'z1'): 0.8}\n",
    "print(\"\\nMax-Min Composition (R ∘ S):\", max_min_composition(R, S))\n"
   ]
  },
  {
   "cell_type": "code",
   "execution_count": null,
   "metadata": {},
   "outputs": [],
   "source": []
  },
  {
   "cell_type": "code",
   "execution_count": null,
   "metadata": {},
   "outputs": [],
   "source": []
  }
 ],
 "metadata": {
  "kernelspec": {
   "display_name": "DeepLearning",
   "language": "python",
   "name": "python3"
  },
  "language_info": {
   "codemirror_mode": {
    "name": "ipython",
    "version": 3
   },
   "file_extension": ".py",
   "mimetype": "text/x-python",
   "name": "python",
   "nbconvert_exporter": "python",
   "pygments_lexer": "ipython3",
   "version": "3.12.4"
  }
 },
 "nbformat": 4,
 "nbformat_minor": 2
}

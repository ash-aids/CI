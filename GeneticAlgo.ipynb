{
 "cells": [
  {
   "cell_type": "markdown",
   "id": "1232b477-7c67-49cb-b499-a578a4c796ec",
   "metadata": {},
   "source": [
    "### **Problem Statement:**\n",
    "Optimization of genetic algorithm parameter in hybrid genetic algorithm-neural network\n",
    "modelling: Application to spray drying of coconut milk.\n"
   ]
  },
  {
   "cell_type": "markdown",
   "id": "dfdf75d2-0493-4ed7-af7d-4d5322f95172",
   "metadata": {},
   "source": [
    "#### **Importing Libraries**"
   ]
  },
  {
   "cell_type": "code",
   "execution_count": 3,
   "id": "42a33b78-642a-4b68-9f96-157ea3fa1f08",
   "metadata": {},
   "outputs": [],
   "source": [
    "import numpy as np\n",
    "from sklearn.neural_network import MLPRegressor\n",
    "from deap import base, creator, tools, algorithms\n",
    "\n"
   ]
  },
  {
   "cell_type": "markdown",
   "id": "e5db6f6d-4295-48e2-8f3d-98afb8907d6c",
   "metadata": {},
   "source": [
    "#### **Step 1: Defining Neural Network Model**"
   ]
  },
  {
   "cell_type": "code",
   "execution_count": 4,
   "id": "a619c7f0-f3de-41d8-8786-bd4194b43aca",
   "metadata": {},
   "outputs": [],
   "source": [
    "def create_nn_model(X_train, y_train):\n",
    "    model = MLPRegressor(hidden_layer_sizes=(10, 10), max_iter=1000, random_state=42)\n",
    "    model.fit(X_train, y_train)\n",
    "    return model"
   ]
  },
  {
   "cell_type": "markdown",
   "id": "7ff61f63-c9cd-4cce-9704-c1433f7c5179",
   "metadata": {},
   "source": [
    "#### **Step 2: Defining Fitness Function for GA**"
   ]
  },
  {
   "cell_type": "code",
   "execution_count": 5,
   "id": "995963ea-2540-4a6d-ac38-2978f3cb3b18",
   "metadata": {},
   "outputs": [],
   "source": [
    "def evaluate(individual):\n",
    "    inlet_temp, feed_flow, atomization_pressure = individual\n",
    "    predicted_output = nn_model.predict([[inlet_temp, feed_flow, atomization_pressure]])\n",
    "    fitness = predicted_output[0]\n",
    "    return fitness,\n",
    "\n"
   ]
  },
  {
   "cell_type": "markdown",
   "id": "da2976b4-e7bd-48db-b693-9ea55d2099ff",
   "metadata": {},
   "source": [
    "#### **Step 3: Setting up GA**"
   ]
  },
  {
   "cell_type": "code",
   "execution_count": 6,
   "id": "9dc28aae-419f-4127-b8c6-d1439dab0814",
   "metadata": {},
   "outputs": [],
   "source": [
    "creator.create(\"FitnessMax\", base.Fitness, weights=(1.0,))\n",
    "creator.create(\"Individual\", list, fitness=creator.FitnessMax)\n",
    "\n",
    "toolbox = base.Toolbox()\n",
    "toolbox.register(\"attr_float\", np.random.uniform, 100, 200)  # Inlet temperature range\n",
    "toolbox.register(\"attr_flow\", np.random.uniform, 10, 50)     # Feed flow rate range\n",
    "toolbox.register(\"attr_pressure\", np.random.uniform, 1, 5)   # Atomization pressure range\n",
    "toolbox.register(\"individual\", tools.initCycle, creator.Individual,\n",
    "                 (toolbox.attr_float, toolbox.attr_flow, toolbox.attr_pressure), n=1)\n",
    "toolbox.register(\"population\", tools.initRepeat, list, toolbox.individual)\n",
    "\n",
    "toolbox.register(\"evaluate\", evaluate)\n",
    "toolbox.register(\"mate\", tools.cxBlend, alpha=0.5)\n",
    "toolbox.register(\"mutate\", tools.mutGaussian, mu=0, sigma=1, indpb=0.2)\n",
    "toolbox.register(\"select\", tools.selTournament, tournsize=3)\n",
    "\n"
   ]
  },
  {
   "cell_type": "markdown",
   "id": "1ce1f4fb-cc10-4224-9fc3-453fd08c5e8f",
   "metadata": {},
   "source": [
    "## ------------------------------------------------------------------------------------------------------------"
   ]
  },
  {
   "cell_type": "markdown",
   "id": "b125ff30-cca1-43f8-ba17-5f2e66325f07",
   "metadata": {},
   "source": [
    "#### **Step 4: Training Sample Data**"
   ]
  },
  {
   "cell_type": "code",
   "execution_count": 7,
   "id": "630c2286-753d-4f92-ad81-b16c9228926b",
   "metadata": {},
   "outputs": [],
   "source": [
    "X_train = np.array([[150, 30, 3], [160, 35, 4], [170, 40, 2]]) \n",
    "y_train = np.array([0.85, 0.90, 0.80]) \n",
    "nn_model = create_nn_model(X_train, y_train)\n",
    "\n"
   ]
  },
  {
   "cell_type": "markdown",
   "id": "3ce7871d-a42d-43a0-b55e-b365f903e581",
   "metadata": {},
   "source": [
    "## ------------------------------------------------------------------------------------------------------------"
   ]
  },
  {
   "cell_type": "markdown",
   "id": "c41a6e45-c545-47c6-9f29-8dd7cb664280",
   "metadata": {},
   "source": [
    "#### **Step 5: Running Genetic Algorithm**"
   ]
  },
  {
   "cell_type": "code",
   "execution_count": 8,
   "id": "c6d88176-ffd2-441d-8fe5-0a0c584c0009",
   "metadata": {},
   "outputs": [
    {
     "name": "stdout",
     "output_type": "stream",
     "text": [
      "gen\tnevals\n",
      "0  \t50    \n",
      "1  \t34    \n",
      "2  \t39    \n",
      "3  \t36    \n",
      "4  \t39    \n",
      "5  \t43    \n",
      "6  \t33    \n",
      "7  \t31    \n",
      "8  \t34    \n",
      "9  \t41    \n",
      "10 \t42    \n",
      "11 \t35    \n",
      "12 \t35    \n",
      "13 \t34    \n",
      "14 \t39    \n",
      "15 \t39    \n",
      "16 \t35    \n",
      "17 \t36    \n",
      "18 \t37    \n",
      "19 \t35    \n",
      "20 \t32    \n",
      "21 \t38    \n",
      "22 \t34    \n",
      "23 \t38    \n",
      "24 \t40    \n",
      "25 \t40    \n",
      "26 \t35    \n",
      "27 \t37    \n",
      "28 \t39    \n",
      "29 \t39    \n",
      "30 \t33    \n",
      "31 \t34    \n",
      "32 \t35    \n",
      "33 \t37    \n",
      "34 \t34    \n",
      "35 \t42    \n",
      "36 \t37    \n",
      "37 \t38    \n",
      "38 \t35    \n",
      "39 \t40    \n",
      "40 \t42    \n"
     ]
    },
    {
     "data": {
      "text/plain": [
       "([[352.27871032039855, -69.18858343579495, -12.149236171313891],\n",
       "  [352.27138073222375, -59.39763913020421, -12.00510312110253],\n",
       "  [350.563435802478, -67.62752352772146, -12.834285606571942],\n",
       "  [373.7525847042662, -71.54819237499771, -10.56676977131822],\n",
       "  [342.2456947392654, -65.52918529653334, -11.926241841647142],\n",
       "  [339.6563468582142, -62.7228294932491, -12.393227722667577],\n",
       "  [349.45841030591015, -64.44746721827998, -11.90232657530659],\n",
       "  [337.5805073731327, -61.85309801421661, -11.97565596012824],\n",
       "  [358.16657330148814, -66.91910637853255, -12.361815081491082],\n",
       "  [339.74187798456654, -57.27493432526022, -11.539775606890656],\n",
       "  [347.4818610863323, -60.96784860495519, -11.88258665153293],\n",
       "  [344.892953535571, -68.76568968486035, -11.997902358393961],\n",
       "  [361.7155881278878, -61.6793992319155, -11.949363105450917],\n",
       "  [357.4312543358153, -62.042971461475815, -12.32978149358911],\n",
       "  [349.5534727617021, -62.25665545119039, -10.704494565392288],\n",
       "  [352.3981311646188, -66.24895074773559, -12.176385970115922],\n",
       "  [391.8212946975923, -66.16702088311524, -12.922598776846375],\n",
       "  [332.4947258091521, -73.00869501960393, -10.478456601043787],\n",
       "  [369.2545798108438, -58.13660387955916, -13.815063740435889],\n",
       "  [367.8748833378071, -49.328585069028634, -11.964336741567015],\n",
       "  [337.9549360732725, -63.33121067010455, -12.009125800815527],\n",
       "  [376.32550060350195, -56.245487854766154, -12.373663402021709],\n",
       "  [376.9423335523459, -51.93994347741928, -12.361522621034583],\n",
       "  [341.265173427442, -72.58876409301753, -11.710909549853902],\n",
       "  [357.2392829225066, -73.67281651498023, -11.892366165869744],\n",
       "  [356.91983125963685, -58.05029620760128, -11.88778130825261],\n",
       "  [344.83123264288287, -69.47640263221959, -10.948773017430929],\n",
       "  [345.5451302578278, -69.41044272470617, -11.947815720634345],\n",
       "  [376.42427548529616, -56.245487854766154, -12.373663402021709],\n",
       "  [338.54246127831726, -64.80816476560699, -11.958366379571352],\n",
       "  [337.81046310973096, -66.72311156106362, -11.897286870845848],\n",
       "  [341.9248251092995, -66.60888434680241, -12.010496860240934],\n",
       "  [376.42427548529616, -56.245487854766154, -12.373663402021709],\n",
       "  [339.5835959597992, -65.13129887802324, -11.926404339148988],\n",
       "  [349.36850780742594, -62.25665545119039, -11.924867811816771],\n",
       "  [337.9549360732725, -64.35358996075266, -11.95438671118863],\n",
       "  [345.74545554198795, -69.94602458826729, -11.884241740080725],\n",
       "  [345.74545554198795, -69.94602458826729, -11.884241740080725],\n",
       "  [348.1815480395279, -63.39561341117786, -11.81362536053968],\n",
       "  [353.770055886793, -65.71028263833689, -12.287628421393013],\n",
       "  [340.2214421608651, -65.99562802776816, -11.896627867900353],\n",
       "  [351.50349382290926, -66.4687891355961, -11.784889837106022],\n",
       "  [340.01690214677245, -60.666994515327524, -12.430701737922922],\n",
       "  [376.8864947316554, -63.03825884494253, -11.848442861117105],\n",
       "  [345.74545554198795, -69.94602458826729, -11.884241740080725],\n",
       "  [379.5520936057259, -67.82297669461632, -12.349209231680016],\n",
       "  [351.08502407982763, -65.39479581028255, -11.726694727163709],\n",
       "  [334.6677566689237, -64.88443403588488, -11.955360735198449],\n",
       "  [347.45632845334677, -64.97957602613621, -12.411727489224571],\n",
       "  [348.2029470935095, -66.79046869186602, -12.12974133401744]],\n",
       " [{'gen': 0, 'nevals': 50},\n",
       "  {'gen': 1, 'nevals': 34},\n",
       "  {'gen': 2, 'nevals': 39},\n",
       "  {'gen': 3, 'nevals': 36},\n",
       "  {'gen': 4, 'nevals': 39},\n",
       "  {'gen': 5, 'nevals': 43},\n",
       "  {'gen': 6, 'nevals': 33},\n",
       "  {'gen': 7, 'nevals': 31},\n",
       "  {'gen': 8, 'nevals': 34},\n",
       "  {'gen': 9, 'nevals': 41},\n",
       "  {'gen': 10, 'nevals': 42},\n",
       "  {'gen': 11, 'nevals': 35},\n",
       "  {'gen': 12, 'nevals': 35},\n",
       "  {'gen': 13, 'nevals': 34},\n",
       "  {'gen': 14, 'nevals': 39},\n",
       "  {'gen': 15, 'nevals': 39},\n",
       "  {'gen': 16, 'nevals': 35},\n",
       "  {'gen': 17, 'nevals': 36},\n",
       "  {'gen': 18, 'nevals': 37},\n",
       "  {'gen': 19, 'nevals': 35},\n",
       "  {'gen': 20, 'nevals': 32},\n",
       "  {'gen': 21, 'nevals': 38},\n",
       "  {'gen': 22, 'nevals': 34},\n",
       "  {'gen': 23, 'nevals': 38},\n",
       "  {'gen': 24, 'nevals': 40},\n",
       "  {'gen': 25, 'nevals': 40},\n",
       "  {'gen': 26, 'nevals': 35},\n",
       "  {'gen': 27, 'nevals': 37},\n",
       "  {'gen': 28, 'nevals': 39},\n",
       "  {'gen': 29, 'nevals': 39},\n",
       "  {'gen': 30, 'nevals': 33},\n",
       "  {'gen': 31, 'nevals': 34},\n",
       "  {'gen': 32, 'nevals': 35},\n",
       "  {'gen': 33, 'nevals': 37},\n",
       "  {'gen': 34, 'nevals': 34},\n",
       "  {'gen': 35, 'nevals': 42},\n",
       "  {'gen': 36, 'nevals': 37},\n",
       "  {'gen': 37, 'nevals': 38},\n",
       "  {'gen': 38, 'nevals': 35},\n",
       "  {'gen': 39, 'nevals': 40},\n",
       "  {'gen': 40, 'nevals': 42}])"
      ]
     },
     "execution_count": 8,
     "metadata": {},
     "output_type": "execute_result"
    }
   ],
   "source": [
    "population = toolbox.population(n=50)\n",
    "ngen, cxpb, mutpb = 40, 0.7, 0.2\n",
    "algorithms.eaSimple(population, toolbox, cxpb, mutpb, ngen, verbose=True)"
   ]
  },
  {
   "cell_type": "markdown",
   "id": "8854f8c1-abf4-4d93-a002-56f8eb89b3dd",
   "metadata": {},
   "source": [
    "## ------------------------------------------------------------------------------------------------------------"
   ]
  },
  {
   "cell_type": "markdown",
   "id": "7c76c79e-46f0-4919-b394-c1672f6c842d",
   "metadata": {},
   "source": [
    "#### **Step 6: Extracting Best Solution**"
   ]
  },
  {
   "cell_type": "code",
   "execution_count": 10,
   "id": "f6015deb-af77-4766-84e2-fd3030502b7c",
   "metadata": {},
   "outputs": [
    {
     "name": "stdout",
     "output_type": "stream",
     "text": [
      "Best Parameters: [260.6644623035142, -10.373473423325152, -41.25341521683167]\n",
      "Predicted Powder Yield: 61.54318532759542\n"
     ]
    }
   ],
   "source": [
    "best_individual = tools.selBest(population, k=1)[0]\n",
    "print(\"Best Parameters:\", best_individual)\n",
    "print(\"Predicted Powder Yield:\", evaluate(best_individual)[0])"
   ]
  },
  {
   "cell_type": "markdown",
   "id": "cbe9d2ea-4474-46f1-ace8-e41d80c547d0",
   "metadata": {},
   "source": [
    "## ------------------------------------------------------------------------------------------------------------"
   ]
  }
 ],
 "metadata": {
  "kernelspec": {
   "display_name": "DeepLearning",
   "language": "python",
   "name": "python3"
  },
  "language_info": {
   "codemirror_mode": {
    "name": "ipython",
    "version": 3
   },
   "file_extension": ".py",
   "mimetype": "text/x-python",
   "name": "python",
   "nbconvert_exporter": "python",
   "pygments_lexer": "ipython3",
   "version": "3.12.4"
  }
 },
 "nbformat": 4,
 "nbformat_minor": 5
}
